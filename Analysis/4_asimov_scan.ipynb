{
 "cells": [
  {
   "cell_type": "markdown",
   "id": "e7853a11",
   "metadata": {},
   "source": [
    "## Runnning with gammapy-dev/IRF_model"
   ]
  },
  {
   "cell_type": "markdown",
   "id": "0e04af29",
   "metadata": {},
   "source": [
    "### Setup"
   ]
  },
  {
   "cell_type": "code",
   "execution_count": 1,
   "id": "27bf135a-5ee4-4ca1-8549-6bf07929003c",
   "metadata": {},
   "outputs": [],
   "source": [
    "import matplotlib.pyplot as plt\n",
    "import numpy as np\n",
    "import astropy.units as u\n",
    "from gammapy.maps import Map\n",
    "from astropy.coordinates import SkyCoord, Angle\n",
    "from gammapy.modeling import Fit,  Parameters, Covariance , Parameter\n",
    "from gammapy.datasets import MapDataset ,Datasets, FluxPointsDataset\n",
    "from gammapy.modeling.models import (\n",
    "    PowerLawSpectralModel,\n",
    "    SkyModel,\n",
    "    PointSpatialModel,\n",
    "    PowerLawNormSpectralModel,\n",
    "    Models,\n",
    "    SpatialModel,\n",
    "    FoVBackgroundModel,\n",
    "    PiecewiseNormSpectralModel,\n",
    ")\n",
    "from gammapy.estimators import TSMapEstimator, ExcessMapEstimator\n",
    "from gammapy.estimators import FluxPoints, FluxPointsEstimator\n",
    "from scipy.interpolate import interp2d\n",
    "\n",
    "from regions import CircleSkyRegion, RectangleSkyRegion\n",
    "import yaml\n",
    "import sys\n",
    "sys.path.append('../')\n",
    "import Dataset_load \n",
    "\n",
    "from  Dataset_Setup import Setup, GaussianCovariance_matrix"
   ]
  },
  {
   "cell_type": "code",
   "execution_count": 2,
   "id": "815c93a2-a7a6-4592-8b29-3fb8289b3846",
   "metadata": {},
   "outputs": [],
   "source": [
    "from matplotlib import rc\n",
    "\n",
    "rc(\"font\", **{\"family\": \"serif\", \"serif\": [\"Computer Modern\"]})\n",
    "rc(\"text\", usetex=True)"
   ]
  },
  {
   "cell_type": "markdown",
   "id": "5de988df",
   "metadata": {
    "tags": []
   },
   "source": [
    "## Read dataset"
   ]
  },
  {
   "cell_type": "code",
   "execution_count": 3,
   "id": "0eeeaf75",
   "metadata": {},
   "outputs": [],
   "source": [
    "c = Dataset_load.load_config()\n",
    "awo, aw, ewo, ew = c['_colors']  "
   ]
  },
  {
   "cell_type": "code",
   "execution_count": 4,
   "id": "e0c45f4e-6432-405e-86b7-649e254c0950",
   "metadata": {},
   "outputs": [
    {
     "name": "stdout",
     "output_type": "stream",
     "text": [
      "Eff_area_1TeV_10per\n"
     ]
    }
   ],
   "source": [
    "livetime = c['livetime']\n",
    "zero = c['zero'] \n",
    "norm = c['norm'] \n",
    "tilt = c['tilt'] \n",
    "bias = c['bias'] \n",
    "resolution = c['resolution'] \n",
    "magnitude = c['magnitude'] \n",
    "corrlength = c['corrlength']\n",
    "sys = c['sys'] \n",
    "folder = c['folder']\n",
    "parameter_names = c['parameter_names']        \n",
    "nbidx = 0\n",
    "print(sys)"
   ]
  },
  {
   "cell_type": "code",
   "execution_count": 5,
   "id": "8b828754",
   "metadata": {},
   "outputs": [
    {
     "name": "stdout",
     "output_type": "stream",
     "text": [
      "lambda_\n",
      "index\n",
      "amplitude\n"
     ]
    }
   ],
   "source": [
    "parameter_names_1  = set(list(np.array(parameter_names).ravel()))\n",
    "for p in parameter_names_1:\n",
    "    print(p)"
   ]
  },
  {
   "cell_type": "markdown",
   "id": "2e0399d4",
   "metadata": {},
   "source": [
    "## Datasets"
   ]
  },
  {
   "cell_type": "code",
   "execution_count": 6,
   "id": "b24b18ac-af52-48ac-bd1e-f03d21457fe4",
   "metadata": {},
   "outputs": [
    {
     "name": "stdout",
     "output_type": "stream",
     "text": [
      "loaded dataset:\n",
      "/home/wecapstor1/caph/mppi045h/nuisance_summary/Dataset/datasets/dataset-simulated-2.154434690031884-hr.fits.gz\n",
      "reference 1.0\n",
      "IRFModels\n",
      "\n",
      "  Name                      : dataset_N-irf\n",
      "  Datasets names            : dataset_N\n",
      "  EReco  model type         : ERecoIRFModel\n",
      "  Eff area  model type      : EffAreaIRFModel\n",
      "  PSF model type            : \n",
      "  Parameters:\n",
      "    bias       (frozen)        :      0.000                  \n",
      "    resolution (frozen)        :      0.000                  \n",
      "    norm               [prior] :      0.000  +/-    0.00             \n",
      "    tilt               [prior] :      0.000  +/-    0.00             \n",
      "    reference  (frozen)        :      1.000      TeV         \n",
      "\n",
      "\n"
     ]
    }
   ],
   "source": [
    "dataset_input  = Dataset_load.create_asimov(model = c['model'], source = c['source'], \n",
    "                                               livetime = f\"{livetime}-hr\",\n",
    "                                        parameters = None) \n",
    "setup = Setup(dataset_input=dataset_input)\n",
    "#setup.set_up_irf_sys(bias, resolution, norm, tilt)\n",
    "dataset_asimov, dataset_asimov_N = setup.run()\n",
    "# irf model\n",
    "setup.set_irf_model(dataset_asimov_N)\n",
    "dataset_asimov, dataset_asimov_N = setup.apply_config_settings(dataset_asimov, dataset_asimov_N, c)\n",
    "\n"
   ]
  },
  {
   "cell_type": "markdown",
   "id": "ec637604-dbf7-4501-9012-2bf4c302d233",
   "metadata": {},
   "source": [
    "## Scan"
   ]
  },
  {
   "cell_type": "code",
   "execution_count": 7,
   "id": "d4cdaa02-9c45-4596-a45c-09d2a78eb1e3",
   "metadata": {},
   "outputs": [
    {
     "data": {
      "text/plain": [
       "{'amplitude', 'index', 'lambda_'}"
      ]
     },
     "execution_count": 7,
     "metadata": {},
     "output_type": "execute_result"
    }
   ],
   "source": [
    "parameter_names_1"
   ]
  },
  {
   "cell_type": "code",
   "execution_count": 8,
   "id": "f6589e22-4b65-4ef2-a364-0fa01a829dad",
   "metadata": {},
   "outputs": [],
   "source": [
    "def computing_scan(dataset, note):\n",
    "        \n",
    "    fit_cor = Fit(store_trace=False)\n",
    "    result_cor = fit_cor.run(dataset)\n",
    "    print(dataset_asimov.models)\n",
    "    \n",
    "    results = []\n",
    "    for parname1 in parameter_names_1 :\n",
    "        if parname1 == 'lambda_':\n",
    "            print(\"scanning\",  parname1)\n",
    "            dataset.models.parameters[parname1].scan_n_values=numpoints\n",
    "            result = fit_cor.stat_profile(dataset,\n",
    "                                 dataset.models.parameters[parname1],\n",
    "                                reoptimize = True\n",
    "                                )\n",
    "\n",
    "            contour_write = dict()\n",
    "            for k in result.keys():\n",
    "                print(k)\n",
    "                if k != \"fit_results\":\n",
    "                    contour_write[k] = [float(_) for _ in result[k]]#.tolist()\n",
    "            print(contour_write)\n",
    "            with open(f\"../{c['folder']}/data/4_scan_{note}_{parname1}_{numpoints}.yml\", \"w\") as outfile:\n",
    "                yaml.dump(contour_write, outfile, default_flow_style=False)\n",
    "\n",
    "            results.append(result)\n",
    "    return results\n",
    "        \n",
    "def read_in_scan(note):\n",
    "    results = []\n",
    "    for parname1 in parameter_names_1 :\n",
    "        try:\n",
    "            with open(f\"../{c['folder']}/data/4_scan_{note}_{parname1}_{numpoints}.yml\", \"r\") as stream:\n",
    "                contour = yaml.safe_load(stream)\n",
    "        except:\n",
    "            with open(f\"../{c['folder']}/data/4_scan_{note}_{parname1}.yml\", \"r\") as stream:\n",
    "                contour = yaml.safe_load(stream)\n",
    "        results.append(contour)\n",
    "    return results\n"
   ]
  },
  {
   "cell_type": "code",
   "execution_count": 9,
   "id": "e2201840-6c23-471d-b286-7152982bbb66",
   "metadata": {},
   "outputs": [
    {
     "name": "stdout",
     "output_type": "stream",
     "text": [
      "CPU times: user 26.7 ms, sys: 0 ns, total: 26.7 ms\n",
      "Wall time: 85.7 ms\n"
     ]
    }
   ],
   "source": [
    "%%time\n",
    "numpoints = 20\n",
    "computing = 0\n",
    "if computing:\n",
    "    results = computing_scan(dataset_asimov, \"2.15h\")\n",
    "else:\n",
    "    results = read_in_scan(\"2.15h\")\n",
    "    path = f'../{folder}/data/0_model.yml'\n",
    "    dataset_asimov.models = Models.read(path)\n",
    "    \n"
   ]
  },
  {
   "cell_type": "code",
   "execution_count": 10,
   "id": "2a09d6e7-599d-4612-b80e-23d72f04ea98",
   "metadata": {},
   "outputs": [
    {
     "name": "stdout",
     "output_type": "stream",
     "text": [
      "[{'Crablog.spectral.lambda__scan': [0.02381642054800938, 0.03183544251189816, 0.039854464475786944, 0.047873486439675726, 0.05589250840356451, 0.06391153036745328, 0.07193055233134207, 0.07994957429523086, 0.08796859625911964, 0.09598761822300843, 0.1040066401868972, 0.11202566215078598, 0.12004468411467477, 0.12806370607856354, 0.13608272804245233, 0.14410175000634112, 0.15212077197022988, 0.1601397939341187, 0.16815881589800746, 0.17617783786189622], 'stat_scan': [89289.45501028483, 89288.1621315595, 89287.11264101967, 89286.26696422668, 89285.59492280171, 89285.07294085388, 89284.68220730146, 89284.40742306843, 89284.23593274776, 89284.15711134323, 89284.1619227778, 89284.24259602732, 89284.39238179928, 89284.60536970824, 89284.87634482118, 89285.20067607304, 89285.5742274287, 89285.99328633882, 89286.4545054284, 89286.95485452816]}, {'Crablog.spectral.index_scan': [2.119712952863358, 2.138748603448013, 2.157784254032668, 2.1768199046173233, 2.1958555552019785, 2.2148912057866337, 2.2339268563712893, 2.2529625069559445, 2.2719981575405996, 2.291033808125255, 2.31006945870991, 2.329105109294565, 2.3481407598792203, 2.3671764104638755, 2.3862120610485307, 2.4052477116331863, 2.4242833622178415, 2.4433190128024966, 2.462354663387152, 2.481390313971807], 'stat_scan': [89287.4610093359, 89286.8344521873, 89286.26760839918, 89285.76159190819, 89285.32283381923, 89284.94680374362, 89284.64306064959, 89284.4070872157, 89284.24813837511, 89284.16227907386, 89284.15849478298, 89284.2335403438, 89284.39613061161, 89284.64358961034, 89284.98230328488, 89285.41648213136, 89285.94509049495, 89286.57642211055, 89287.3092516538, 89288.15159103817]}, {'Crablog.spectral.amplitude_scan': [2.924514835215679e-11, 3.001035147255624e-11, 3.079557623238861e-11, 3.160134650046061e-11, 3.242819985267473e-11, 3.327668793067669e-11, 3.4147376809888153e-11, 3.5040847377167916e-11, 3.595769571835515e-11, 3.6898533515952785e-11, 3.7863988457216316e-11, 3.885470465291973e-11, 3.987134306707981e-11, 4.091458195792293e-11, 4.198511733039037e-11, 4.308366340048347e-11, 4.421095307175856e-11, 4.536773842428861e-11, 4.655479121642024e-11, 4.7772903399657724e-11], 'stat_scan': [89290.2296812255, 89289.06570242991, 89288.03881215076, 89287.14472378798, 89286.3774689349, 89285.73242028199, 89285.20381410203, 89284.78801673022, 89284.47989628252, 89284.27477125109, 89284.16822666496, 89284.1560018914, 89284.23395295165, 89284.39804438283, 89284.64446506038, 89284.96915256199, 89285.3685111461, 89285.83894498777, 89286.37697225547, 89286.9792079685]}]\n",
      "CPU times: user 158 ms, sys: 48.9 ms, total: 207 ms\n",
      "Wall time: 254 ms\n"
     ]
    }
   ],
   "source": [
    "%%time\n",
    "computing = 0\n",
    "numpoints = 20\n",
    "\n",
    "if computing:\n",
    "    dataset_asimov_N.models.parameters['lon_0'].frozen = True\n",
    "    dataset_asimov_N.models.parameters['lat_0'].frozen = True\n",
    "    \n",
    "    results_N = computing_scan(dataset_asimov_N, \"N_2.15h\")\n",
    "else:\n",
    "    results_N = read_in_scan(\"N_2.15h\")\n",
    "    try:\n",
    "        path = f'../{folder}/data/0_model_nui.yml'\n",
    "        dataset_asimov_N = Dataset_load.load_dataset_N(dataset_asimov_N, path,bkg_sys = False)        \n",
    "    except:\n",
    "        path = f'../{folder}/data/0_model_nui_1000.yml'\n",
    "        dataset_asimov_N = Dataset_load.load_dataset_N(dataset_asimov_N, path,bkg_sys = False)        \n",
    "        \n",
    "print(results_N)"
   ]
  },
  {
   "cell_type": "code",
   "execution_count": 11,
   "id": "01551e25-99b6-4557-b5ea-7345e5e8592d",
   "metadata": {},
   "outputs": [
    {
     "name": "stdout",
     "output_type": "stream",
     "text": [
      "DatasetModels\n",
      "\n",
      "Component 0: SkyModel\n",
      "\n",
      "  Name                      : Z6XI4n1U\n",
      "  Datasets names            : None\n",
      "  Spectral model type       : ExpCutoffPowerLawSpectralModel\n",
      "  Spatial  model type       : PointSpatialModel\n",
      "  Temporal model type       : \n",
      "  Parameters:\n",
      "    index                      :      2.302  +/-    0.09             \n",
      "    amplitude                  :   3.85e-11  +/- 4.7e-12 1 / (cm2 s TeV)\n",
      "    reference  (frozen)        :      1.000      TeV         \n",
      "    lambda_                    :      0.100  +/-    0.04 1 / TeV     \n",
      "    alpha      (frozen)        :      1.000                  \n",
      "    lon_0                      :    329.680  +/-    0.00 deg         \n",
      "    lat_0                      :    -30.222  +/-    0.00 deg         \n",
      "\n",
      "Component 1: FoVBackgroundModel\n",
      "\n",
      "  Name                      : dataset-fit-bkg\n",
      "  Datasets names            : ['dataset-fit']\n",
      "  Spectral model type       : PowerLawNormSpectralModel\n",
      "  Parameters:\n",
      "    norm                       :      1.000  +/-    0.01             \n",
      "    tilt       (frozen)        :      0.000                  \n",
      "    reference  (frozen)        :      1.000      TeV         \n",
      "\n",
      "Component 2: IRFModels\n",
      "\n",
      "  Name                      : dataset-fit-irf\n",
      "  Datasets names            : dataset-fit\n",
      "  EReco  model type         : ERecoIRFModel\n",
      "  Eff area  model type      : EffAreaIRFModel\n",
      "  PSF model type            : \n",
      "  Parameters:\n",
      "    bias       (frozen)        :      0.000                  \n",
      "    resolution (frozen)        :      0.000                  \n",
      "    norm               [prior] :      0.000  +/-    0.10             \n",
      "    tilt               [prior] :      0.000  +/-    0.02             \n",
      "    reference  (frozen)        :      1.000      TeV         \n",
      "\n",
      "\n"
     ]
    }
   ],
   "source": [
    "print(dataset_asimov_N.models)"
   ]
  },
  {
   "cell_type": "code",
   "execution_count": 12,
   "id": "97a4a482-8669-4254-9ea0-6acadb37fab4",
   "metadata": {},
   "outputs": [
    {
     "data": {
      "text/plain": [
       "[0.12156862745098039, 0.47058823529411764, 0.7058823529411765]"
      ]
     },
     "execution_count": 12,
     "metadata": {},
     "output_type": "execute_result"
    }
   ],
   "source": [
    "import colors as s\n",
    "s.blue"
   ]
  },
  {
   "cell_type": "code",
   "execution_count": 13,
   "id": "eb63b561-fad7-4ad2-a195-6a5232590e81",
   "metadata": {},
   "outputs": [
    {
     "data": {
      "text/plain": [
       "<Figure size 640x480 with 0 Axes>"
      ]
     },
     "metadata": {},
     "output_type": "display_data"
    },
    {
     "data": {
      "image/png": "[encoded data removed]",
      "text/plain": [
       "<Figure size 640x480 with 1 Axes>"
      ]
     },
     "metadata": {},
     "output_type": "display_data"
    },
    {
     "data": {
      "text/plain": [
       "<Figure size 640x480 with 0 Axes>"
      ]
     },
     "metadata": {},
     "output_type": "display_data"
    },
    {
     "data": {
      "image/png": "[encoded data removed]",
      "text/plain": [
       "<Figure size 640x480 with 1 Axes>"
      ]
     },
     "metadata": {},
     "output_type": "display_data"
    },
    {
     "data": {
      "text/plain": [
       "<Figure size 640x480 with 0 Axes>"
      ]
     },
     "metadata": {},
     "output_type": "display_data"
    },
    {
     "data": {
      "image/png": "[encoded data removed]",
      "text/plain": [
       "<Figure size 640x480 with 1 Axes>"
      ]
     },
     "metadata": {},
     "output_type": "display_data"
    }
   ],
   "source": [
    "import upper_limit_18_02\n",
    "\n",
    "colors_ = [s.blue, s.orange,\n",
    "          s.lblue, s.lorange]\n",
    "\n",
    "colors_ = [awo[0] , aw[0],\n",
    "           awo[1] , aw[1]]\n",
    "\n",
    "for i, p in enumerate(parameter_names_1):\n",
    "    #if p == 'index':\n",
    "    if True:\n",
    "        stat_profile_N = results_N[i]\n",
    "        stat_profile = results[i]\n",
    "\n",
    "        stat_profile_N['stat_scan'] -= np.min(stat_profile_N['stat_scan'])\n",
    "        stat_profile['stat_scan'] -= np.min(stat_profile['stat_scan'])\n",
    "\n",
    "        fig = plt.figure()\n",
    "        ll_N_a = stat_profile_N.copy()\n",
    "        case = 'spectral'\n",
    "        if p == 'sigma':\n",
    "            case = 'spatial'\n",
    "            \n",
    "        amplitude_err = dataset_asimov.models[0].parameters[p].error\n",
    "        amplitude = dataset_asimov.models[0].parameters[p].value\n",
    "        amplitude_err_N = dataset_asimov_N.models[0].parameters[p].error\n",
    "        amplitude_N = dataset_asimov_N.models[0].parameters[p].value\n",
    "\n",
    "        fig, ax = plt.subplots(1,1)\n",
    "            \n",
    "        ### LIKELIHOOD\n",
    "        # scan\n",
    "        ll_a = stat_profile.copy()\n",
    "        ul_a = upper_limit_18_02.upper_limit(ll_a,0,0,  name=f'{dataset_asimov.models[0].name}.{case}.{p}_scan')\n",
    "        L_a, x_a = ul_a.interpolate()\n",
    "        plt.plot(x_a, L_a(x_a),label = \"-2log (L)\", linestyle = 'dashed', color = colors_[0])\n",
    "    \n",
    "        ylim= ax.get_ylim()\n",
    "        ymax = 2#ylim[1]\n",
    "        min_, er_neg, er_pos = ul_a.likelihood_error_asymmetric()\n",
    "        min_ = min_[0]; er_neg = er_neg[0]; er_pos = er_pos[0]; \n",
    "        dataset_asimov.models.parameters[p].error_n = er_neg\n",
    "        dataset_asimov.models.parameters[p].error_p = er_pos\n",
    "        \n",
    "        factor = 1\n",
    "        if p == 'amplitude':\n",
    "            factor = 1e11\n",
    "\n",
    "        ax.fill_between(  [min_-er_neg, min_+ er_pos], ylim[0], ymax, alpha = 0.5, color=colors_[2],\n",
    "                        label = f'1$\\sigma$ error (Scan): -{er_neg*factor:.2} +{er_pos*factor:.2} ')\n",
    "     \n",
    "        \n",
    "        ax.vlines(amplitude-amplitude_err, ylim[0], ymax, color = colors_[0], linestyle ='dotted')\n",
    "        ax.vlines(amplitude+amplitude_err, ylim[0], ymax, color = colors_[0], linestyle ='dotted',\n",
    "                 label =  f'1$\\sigma$ error (Minuit): {amplitude_err*factor:.2}')\n",
    "\n",
    "           \n",
    "        ### POSTERIOR\n",
    "        # scan\n",
    "        ul_N_a = upper_limit_18_02.upper_limit(ll_N_a,0,0, \n",
    "                                               name=f'{dataset_asimov.models[0].name}.{case}.{p}_scan')\n",
    "        L_N_a, x_N_a = ul_N_a.interpolate()\n",
    "        plt.plot(x_N_a, L_N_a(x_N_a),label = \"-2log (P)\", color = colors_[1])\n",
    "        \n",
    "        \n",
    "        min_N, er_negN, er_posN = ul_N_a.likelihood_error_asymmetric()\n",
    "        min_N = min_N[0]; er_negN = er_negN[0]; er_posN = er_posN[0]; \n",
    "        dataset_asimov_N.models.parameters[p].error_n = er_negN\n",
    "        dataset_asimov_N.models.parameters[p].error_p = er_posN\n",
    "\n",
    "\n",
    "        ax.fill_between(  [min_N-er_negN, min_N+ er_posN], ylim[0], ymax, alpha = 0.5, color = colors_[3],\n",
    "                        label = f'1$\\sigma$ error (Scan): -{er_negN*factor:.5} +{er_posN*factor:.5} ')\n",
    "        ax.vlines(amplitude_N-amplitude_err_N, ylim[0], ymax,color = colors_[1] ,\n",
    "                  linestyles='dotted'\n",
    "                 )\n",
    "        ax.vlines(amplitude_N+amplitude_err_N, ylim[0], ymax,color = colors_[1],\n",
    "                  linestyles='dotted',\n",
    "                    label = f'1$\\sigma$ error (Minuit): $\\pm${amplitude_err_N*factor:.5}')\n",
    "                 \n",
    "        nn = 2\n",
    "        #ax.set_xlim(amplitude_N-amplitude_err_N*nn, \n",
    "        #           amplitude_N+amplitude_err_N*nn)\n",
    "        ax.set_ylim(np.min(stat_profile['stat_scan'])-0.5,\n",
    "                    np.min(stat_profile['stat_scan'])+ 3)\n",
    "\n",
    "        \n",
    "        \n",
    "       \n",
    "    \n",
    "    \n",
    "        xx = ax.get_xlim()\n",
    "        alpha = 0.6\n",
    "        ax.hlines(0, xx[0], xx[1], color = 'grey', alpha = alpha)\n",
    "        ax.hlines(1, xx[0], xx[1], color = 'grey', alpha = alpha)\n",
    "        if p == 'amplitude':\n",
    "            str_= \"[$\\\\mathrm{TeV^{-1}\\\\,s^{-1}\\\\,cm^{-2}}$]\"\n",
    "            plt.xlabel(f\"Source strength \" + str_) \n",
    "        else:\n",
    "            plt.xlabel(p)\n",
    "        plt.ylabel(\"-2log (L) [arb. unit]\")\n",
    "        plt.legend(ncol = 2)\n",
    "\n",
    "    fig.savefig(f\"../{c['folder']}/plots/4_scan_{p}.pdf\")\n",
    "    \n",
    "    "
   ]
  },
  {
   "cell_type": "code",
   "execution_count": 14,
   "id": "3346f536",
   "metadata": {},
   "outputs": [],
   "source": [
    "path = f'../{folder}/data/0_model_nui_livetime_{livetime}_np.yml'\n",
    "dataset_asimov_N.models.write(path, overwrite = 1)\n",
    "\n",
    "path = f'../{folder}/data/0_model_livetime_{livetime}_np.yml'\n",
    "dataset_asimov.models.write(path, overwrite = 1)"
   ]
  },
  {
   "cell_type": "code",
   "execution_count": 15,
   "id": "f95db6d8-c134-4b05-817b-3ebce0a994d8",
   "metadata": {},
   "outputs": [
    {
     "name": "stdout",
     "output_type": "stream",
     "text": [
      "0.09217801561099592\n",
      "0.09720305203514856\n",
      "0.09274087718986257\n",
      "2.3017402437850563\n"
     ]
    }
   ],
   "source": [
    "print(dataset_asimov_N.models.parameters['index'].error)\n",
    "print(dataset_asimov_N.models.parameters['index'].error_n)\n",
    "print(dataset_asimov_N.models.parameters['index'].error_p)\n",
    "print(dataset_asimov_N.models.parameters['index'].value)\n"
   ]
  },
  {
   "cell_type": "code",
   "execution_count": 16,
   "id": "55b292b6",
   "metadata": {},
   "outputs": [
    {
     "name": "stdout",
     "output_type": "stream",
     "text": [
      "0.09232004913014927\n",
      "0.09583988422704826\n",
      "0.09019532662839991\n",
      "2.3\n"
     ]
    }
   ],
   "source": [
    "print(dataset_asimov.models.parameters['index'].error)\n",
    "print(dataset_asimov.models.parameters['index'].error_n)\n",
    "print(dataset_asimov.models.parameters['index'].error_p)\n",
    "print(dataset_asimov.models.parameters['index'].value)"
   ]
  },
  {
   "cell_type": "markdown",
   "id": "9e7e4b55-557c-4024-8be7-071baac96b59",
   "metadata": {},
   "source": [
    "## Minos"
   ]
  },
  {
   "cell_type": "code",
   "execution_count": 17,
   "id": "587a7d60-4942-4eee-8bff-ca5cf0bf2048",
   "metadata": {},
   "outputs": [],
   "source": [
    "lt = c['livetime']"
   ]
  },
  {
   "cell_type": "code",
   "execution_count": 18,
   "id": "0e503cc1-a5ab-4f04-b413-530d28f8cc78",
   "metadata": {},
   "outputs": [
    {
     "name": "stderr",
     "output_type": "stream",
     "text": [
      "<timed exec>:15: GammapyDeprecationWarning: The IMinuit object is attached to the OptimizeResult object instead.\n",
      "<timed exec>:16: GammapyDeprecationWarning: The IMinuit object is attached to the OptimizeResult object instead.\n"
     ]
    },
    {
     "ename": "KeyboardInterrupt",
     "evalue": "",
     "output_type": "error",
     "traceback": [
      "\u001b[0;31m---------------------------------------------------------------------------\u001b[0m",
      "\u001b[0;31mKeyboardInterrupt\u001b[0m                         Traceback (most recent call last)",
      "File \u001b[0;32m<timed exec>:21\u001b[0m\n",
      "File \u001b[0;32m/home/wecapstor1/caph/mppi045h/gammapy/gammapy/modeling/fit.py:176\u001b[0m, in \u001b[0;36mFit.run\u001b[0;34m(self, datasets)\u001b[0m\n\u001b[1;32m    163\u001b[0m \u001b[38;5;28;01mdef\u001b[39;00m \u001b[38;5;21mrun\u001b[39m(\u001b[38;5;28mself\u001b[39m, datasets):\n\u001b[1;32m    164\u001b[0m \u001b[38;5;250m    \u001b[39m\u001b[38;5;124;03m\"\"\"Run all fitting steps.\u001b[39;00m\n\u001b[1;32m    165\u001b[0m \n\u001b[1;32m    166\u001b[0m \u001b[38;5;124;03m    Parameters\u001b[39;00m\n\u001b[0;32m   (...)\u001b[0m\n\u001b[1;32m    174\u001b[0m \u001b[38;5;124;03m        Fit result\u001b[39;00m\n\u001b[1;32m    175\u001b[0m \u001b[38;5;124;03m    \"\"\"\u001b[39;00m\n\u001b[0;32m--> 176\u001b[0m     optimize_result \u001b[38;5;241m=\u001b[39m \u001b[38;5;28;43mself\u001b[39;49m\u001b[38;5;241;43m.\u001b[39;49m\u001b[43moptimize\u001b[49m\u001b[43m(\u001b[49m\u001b[43mdatasets\u001b[49m\u001b[38;5;241;43m=\u001b[39;49m\u001b[43mdatasets\u001b[49m\u001b[43m)\u001b[49m\n\u001b[1;32m    178\u001b[0m     \u001b[38;5;28;01mif\u001b[39;00m \u001b[38;5;28mself\u001b[39m\u001b[38;5;241m.\u001b[39mbackend \u001b[38;5;129;01mnot\u001b[39;00m \u001b[38;5;129;01min\u001b[39;00m registry\u001b[38;5;241m.\u001b[39mregister[\u001b[38;5;124m\"\u001b[39m\u001b[38;5;124mcovariance\u001b[39m\u001b[38;5;124m\"\u001b[39m]:\n\u001b[1;32m    179\u001b[0m         log\u001b[38;5;241m.\u001b[39mwarning(\u001b[38;5;124m\"\u001b[39m\u001b[38;5;124mNo covariance estimate - not supported by this backend.\u001b[39m\u001b[38;5;124m\"\u001b[39m)\n",
      "File \u001b[0;32m/home/wecapstor1/caph/mppi045h/gammapy/gammapy/modeling/fit.py:223\u001b[0m, in \u001b[0;36mFit.optimize\u001b[0;34m(self, datasets)\u001b[0m\n\u001b[1;32m    219\u001b[0m compute \u001b[38;5;241m=\u001b[39m registry\u001b[38;5;241m.\u001b[39mget(\u001b[38;5;124m\"\u001b[39m\u001b[38;5;124moptimize\u001b[39m\u001b[38;5;124m\"\u001b[39m, backend)\n\u001b[1;32m    220\u001b[0m \u001b[38;5;66;03m# TODO: change this calling interface!\u001b[39;00m\n\u001b[1;32m    221\u001b[0m \u001b[38;5;66;03m# probably should pass a fit statistic, which has a model, which has parameters\u001b[39;00m\n\u001b[1;32m    222\u001b[0m \u001b[38;5;66;03m# and return something simpler, not a tuple of three things\u001b[39;00m\n\u001b[0;32m--> 223\u001b[0m factors, info, optimizer \u001b[38;5;241m=\u001b[39m \u001b[43mcompute\u001b[49m\u001b[43m(\u001b[49m\n\u001b[1;32m    224\u001b[0m \u001b[43m    \u001b[49m\u001b[43mparameters\u001b[49m\u001b[38;5;241;43m=\u001b[39;49m\u001b[43mparameters\u001b[49m\u001b[43m,\u001b[49m\n\u001b[1;32m    225\u001b[0m \u001b[43m    \u001b[49m\u001b[43mfunction\u001b[49m\u001b[38;5;241;43m=\u001b[39;49m\u001b[43mdatasets\u001b[49m\u001b[38;5;241;43m.\u001b[39;49m\u001b[43mstat_sum\u001b[49m\u001b[43m,\u001b[49m\n\u001b[1;32m    226\u001b[0m \u001b[43m    \u001b[49m\u001b[43mstore_trace\u001b[49m\u001b[38;5;241;43m=\u001b[39;49m\u001b[38;5;28;43mself\u001b[39;49m\u001b[38;5;241;43m.\u001b[39;49m\u001b[43mstore_trace\u001b[49m\u001b[43m,\u001b[49m\n\u001b[1;32m    227\u001b[0m \u001b[43m    \u001b[49m\u001b[38;5;241;43m*\u001b[39;49m\u001b[38;5;241;43m*\u001b[39;49m\u001b[43mkwargs\u001b[49m\u001b[43m,\u001b[49m\n\u001b[1;32m    228\u001b[0m \u001b[43m\u001b[49m\u001b[43m)\u001b[49m\n\u001b[1;32m    230\u001b[0m \u001b[38;5;28;01mif\u001b[39;00m backend \u001b[38;5;241m==\u001b[39m \u001b[38;5;124m\"\u001b[39m\u001b[38;5;124mminuit\u001b[39m\u001b[38;5;124m\"\u001b[39m:\n\u001b[1;32m    231\u001b[0m     \u001b[38;5;28mself\u001b[39m\u001b[38;5;241m.\u001b[39m_minuit \u001b[38;5;241m=\u001b[39m optimizer\n",
      "File \u001b[0;32m/home/wecapstor1/caph/mppi045h/gammapy/gammapy/modeling/iminuit.py:79\u001b[0m, in \u001b[0;36moptimize_iminuit\u001b[0;34m(parameters, function, store_trace, **kwargs)\u001b[0m\n\u001b[1;32m     73\u001b[0m migrad_opts \u001b[38;5;241m=\u001b[39m kwargs\u001b[38;5;241m.\u001b[39mpop(\u001b[38;5;124m\"\u001b[39m\u001b[38;5;124mmigrad_opts\u001b[39m\u001b[38;5;124m\"\u001b[39m, {})\n\u001b[1;32m     75\u001b[0m minuit, minuit_func \u001b[38;5;241m=\u001b[39m setup_iminuit(\n\u001b[1;32m     76\u001b[0m     parameters\u001b[38;5;241m=\u001b[39mparameters, function\u001b[38;5;241m=\u001b[39mfunction, store_trace\u001b[38;5;241m=\u001b[39mstore_trace, \u001b[38;5;241m*\u001b[39m\u001b[38;5;241m*\u001b[39mkwargs\n\u001b[1;32m     77\u001b[0m )\n\u001b[0;32m---> 79\u001b[0m \u001b[43mminuit\u001b[49m\u001b[38;5;241;43m.\u001b[39;49m\u001b[43mmigrad\u001b[49m\u001b[43m(\u001b[49m\u001b[38;5;241;43m*\u001b[39;49m\u001b[38;5;241;43m*\u001b[39;49m\u001b[43mmigrad_opts\u001b[49m\u001b[43m)\u001b[49m\n\u001b[1;32m     81\u001b[0m factors \u001b[38;5;241m=\u001b[39m minuit\u001b[38;5;241m.\u001b[39mvalues\n\u001b[1;32m     82\u001b[0m info \u001b[38;5;241m=\u001b[39m {\n\u001b[1;32m     83\u001b[0m     \u001b[38;5;124m\"\u001b[39m\u001b[38;5;124msuccess\u001b[39m\u001b[38;5;124m\"\u001b[39m: minuit\u001b[38;5;241m.\u001b[39mvalid,\n\u001b[1;32m     84\u001b[0m     \u001b[38;5;124m\"\u001b[39m\u001b[38;5;124mnfev\u001b[39m\u001b[38;5;124m\"\u001b[39m: minuit\u001b[38;5;241m.\u001b[39mnfcn,\n\u001b[1;32m     85\u001b[0m     \u001b[38;5;124m\"\u001b[39m\u001b[38;5;124mmessage\u001b[39m\u001b[38;5;124m\"\u001b[39m: _get_message(minuit, parameters),\n\u001b[1;32m     86\u001b[0m     \u001b[38;5;124m\"\u001b[39m\u001b[38;5;124mtrace\u001b[39m\u001b[38;5;124m\"\u001b[39m: minuit_func\u001b[38;5;241m.\u001b[39mtrace,\n\u001b[1;32m     87\u001b[0m }\n",
      "File \u001b[0;32m/home/wecapstor1/caph/mppi045h/anaconda3/envs/gammapy-dev/lib/python3.8/site-packages/iminuit/minuit.py:702\u001b[0m, in \u001b[0;36mMinuit.migrad\u001b[0;34m(self, ncall, iterate)\u001b[0m\n\u001b[1;32m    700\u001b[0m \u001b[38;5;28;01mif\u001b[39;00m \u001b[38;5;28mself\u001b[39m\u001b[38;5;241m.\u001b[39m_precision \u001b[38;5;129;01mis\u001b[39;00m \u001b[38;5;129;01mnot\u001b[39;00m \u001b[38;5;28;01mNone\u001b[39;00m:\n\u001b[1;32m    701\u001b[0m     migrad\u001b[38;5;241m.\u001b[39mprecision \u001b[38;5;241m=\u001b[39m \u001b[38;5;28mself\u001b[39m\u001b[38;5;241m.\u001b[39m_precision\n\u001b[0;32m--> 702\u001b[0m fm \u001b[38;5;241m=\u001b[39m \u001b[43mmigrad\u001b[49m\u001b[43m(\u001b[49m\u001b[43mncall\u001b[49m\u001b[43m,\u001b[49m\u001b[43m \u001b[49m\u001b[38;5;28;43mself\u001b[39;49m\u001b[38;5;241;43m.\u001b[39;49m\u001b[43m_tolerance\u001b[49m\u001b[43m)\u001b[49m\n\u001b[1;32m    703\u001b[0m \u001b[38;5;28;01mif\u001b[39;00m fm\u001b[38;5;241m.\u001b[39mis_valid \u001b[38;5;129;01mor\u001b[39;00m fm\u001b[38;5;241m.\u001b[39mhas_reached_call_limit:\n\u001b[1;32m    704\u001b[0m     \u001b[38;5;28;01mbreak\u001b[39;00m\n",
      "File \u001b[0;32m/home/wecapstor1/caph/mppi045h/gammapy/gammapy/modeling/iminuit.py:25\u001b[0m, in \u001b[0;36mMinuitLikelihood.fcn\u001b[0;34m(self, *factors)\u001b[0m\n\u001b[1;32m     22\u001b[0m \u001b[38;5;28;01mdef\u001b[39;00m \u001b[38;5;21mfcn\u001b[39m(\u001b[38;5;28mself\u001b[39m, \u001b[38;5;241m*\u001b[39mfactors):\n\u001b[1;32m     23\u001b[0m     \u001b[38;5;28mself\u001b[39m\u001b[38;5;241m.\u001b[39mparameters\u001b[38;5;241m.\u001b[39mset_parameter_factors(factors)\n\u001b[0;32m---> 25\u001b[0m     total_stat \u001b[38;5;241m=\u001b[39m \u001b[38;5;28;43mself\u001b[39;49m\u001b[38;5;241;43m.\u001b[39;49m\u001b[43mfunction\u001b[49m\u001b[43m(\u001b[49m\u001b[43m)\u001b[49m\n\u001b[1;32m     27\u001b[0m     \u001b[38;5;28;01mif\u001b[39;00m \u001b[38;5;28mself\u001b[39m\u001b[38;5;241m.\u001b[39mstore_trace:\n\u001b[1;32m     28\u001b[0m         \u001b[38;5;28mself\u001b[39m\u001b[38;5;241m.\u001b[39mstore_trace_iteration(total_stat)\n",
      "File \u001b[0;32m/home/wecapstor1/caph/mppi045h/gammapy/gammapy/datasets/core.py:236\u001b[0m, in \u001b[0;36mDatasets.stat_sum\u001b[0;34m(self)\u001b[0m\n\u001b[1;32m    234\u001b[0m prior_stat_sum \u001b[38;5;241m=\u001b[39m \u001b[38;5;241m0\u001b[39m\n\u001b[1;32m    235\u001b[0m \u001b[38;5;28;01mfor\u001b[39;00m dataset \u001b[38;5;129;01min\u001b[39;00m \u001b[38;5;28mself\u001b[39m:\n\u001b[0;32m--> 236\u001b[0m     stat_sum \u001b[38;5;241m+\u001b[39m\u001b[38;5;241m=\u001b[39m \u001b[43mdataset\u001b[49m\u001b[38;5;241;43m.\u001b[39;49m\u001b[43mstat_sum\u001b[49m\u001b[43m(\u001b[49m\u001b[43m)\u001b[49m\n\u001b[1;32m    237\u001b[0m     \u001b[38;5;66;03m# remove prior_fit_statistic from individual dataset to avoid double counting\u001b[39;00m\n\u001b[1;32m    238\u001b[0m     \u001b[38;5;28;01mif\u001b[39;00m dataset\u001b[38;5;241m.\u001b[39mmodels \u001b[38;5;129;01mis\u001b[39;00m \u001b[38;5;129;01mnot\u001b[39;00m \u001b[38;5;28;01mNone\u001b[39;00m:\n",
      "File \u001b[0;32m/home/wecapstor1/caph/mppi045h/gammapy/gammapy/datasets/map.py:1245\u001b[0m, in \u001b[0;36mMapDataset.stat_sum\u001b[0;34m(self)\u001b[0m\n\u001b[1;32m   1243\u001b[0m \u001b[38;5;28;01mdef\u001b[39;00m \u001b[38;5;21mstat_sum\u001b[39m(\u001b[38;5;28mself\u001b[39m):\n\u001b[1;32m   1244\u001b[0m \u001b[38;5;250m    \u001b[39m\u001b[38;5;124;03m\"\"\"Total statistic function value given the current model parameters and priors set on the models.\"\"\"\u001b[39;00m\n\u001b[0;32m-> 1245\u001b[0m     counts, npred \u001b[38;5;241m=\u001b[39m \u001b[38;5;28mself\u001b[39m\u001b[38;5;241m.\u001b[39mcounts\u001b[38;5;241m.\u001b[39mdata\u001b[38;5;241m.\u001b[39mastype(\u001b[38;5;28mfloat\u001b[39m), \u001b[38;5;28;43mself\u001b[39;49m\u001b[38;5;241;43m.\u001b[39;49m\u001b[43mnpred\u001b[49m\u001b[43m(\u001b[49m\u001b[43m)\u001b[49m\u001b[38;5;241m.\u001b[39mdata\n\u001b[1;32m   1246\u001b[0m     prior_stat_sum \u001b[38;5;241m=\u001b[39m \u001b[38;5;241m0.0\u001b[39m\n\u001b[1;32m   1247\u001b[0m     \u001b[38;5;28;01mif\u001b[39;00m \u001b[38;5;28mself\u001b[39m\u001b[38;5;241m.\u001b[39mmodels \u001b[38;5;129;01mis\u001b[39;00m \u001b[38;5;129;01mnot\u001b[39;00m \u001b[38;5;28;01mNone\u001b[39;00m:\n",
      "File \u001b[0;32m/home/wecapstor1/caph/mppi045h/gammapy/gammapy/datasets/map.py:459\u001b[0m, in \u001b[0;36mMapDataset.npred\u001b[0;34m(self)\u001b[0m\n\u001b[1;32m    451\u001b[0m \u001b[38;5;28;01mdef\u001b[39;00m \u001b[38;5;21mnpred\u001b[39m(\u001b[38;5;28mself\u001b[39m):\n\u001b[1;32m    452\u001b[0m \u001b[38;5;250m    \u001b[39m\u001b[38;5;124;03m\"\"\"Total predicted source and background counts.\u001b[39;00m\n\u001b[1;32m    453\u001b[0m \n\u001b[1;32m    454\u001b[0m \u001b[38;5;124;03m    Returns\u001b[39;00m\n\u001b[0;32m   (...)\u001b[0m\n\u001b[1;32m    457\u001b[0m \u001b[38;5;124;03m        Total predicted counts\u001b[39;00m\n\u001b[1;32m    458\u001b[0m \u001b[38;5;124;03m    \"\"\"\u001b[39;00m\n\u001b[0;32m--> 459\u001b[0m     npred_total \u001b[38;5;241m=\u001b[39m \u001b[38;5;28;43mself\u001b[39;49m\u001b[38;5;241;43m.\u001b[39;49m\u001b[43mnpred_signal\u001b[49m\u001b[43m(\u001b[49m\u001b[43m)\u001b[49m\n\u001b[1;32m    461\u001b[0m     \u001b[38;5;28;01mif\u001b[39;00m \u001b[38;5;28mself\u001b[39m\u001b[38;5;241m.\u001b[39mbackground:\n\u001b[1;32m    462\u001b[0m         npred_total \u001b[38;5;241m+\u001b[39m\u001b[38;5;241m=\u001b[39m \u001b[38;5;28mself\u001b[39m\u001b[38;5;241m.\u001b[39mnpred_background()\n",
      "File \u001b[0;32m/home/wecapstor1/caph/mppi045h/anaconda3/envs/gammapy-dev/lib/python3.8/site-packages/astropy/utils/decorators.py:607\u001b[0m, in \u001b[0;36mdeprecated_renamed_argument.<locals>.decorator.<locals>.wrapper\u001b[0;34m(*args, **kwargs)\u001b[0m\n\u001b[1;32m    604\u001b[0m             msg \u001b[38;5;241m+\u001b[39m\u001b[38;5;241m=\u001b[39m \u001b[38;5;124mf\u001b[39m\u001b[38;5;124m\"\u001b[39m\u001b[38;5;130;01m\\n\u001b[39;00m\u001b[38;5;124m        Use \u001b[39m\u001b[38;5;132;01m{\u001b[39;00malternative\u001b[38;5;132;01m}\u001b[39;00m\u001b[38;5;124m instead.\u001b[39m\u001b[38;5;124m\"\u001b[39m\n\u001b[1;32m    605\u001b[0m         warnings\u001b[38;5;241m.\u001b[39mwarn(msg, warning_type, stacklevel\u001b[38;5;241m=\u001b[39m\u001b[38;5;241m2\u001b[39m)\n\u001b[0;32m--> 607\u001b[0m \u001b[38;5;28;01mreturn\u001b[39;00m \u001b[43mfunction\u001b[49m\u001b[43m(\u001b[49m\u001b[38;5;241;43m*\u001b[39;49m\u001b[43margs\u001b[49m\u001b[43m,\u001b[49m\u001b[43m \u001b[49m\u001b[38;5;241;43m*\u001b[39;49m\u001b[38;5;241;43m*\u001b[39;49m\u001b[43mkwargs\u001b[49m\u001b[43m)\u001b[49m\n",
      "File \u001b[0;32m/home/wecapstor1/caph/mppi045h/gammapy/gammapy/datasets/map.py:639\u001b[0m, in \u001b[0;36mMapDataset.npred_signal\u001b[0;34m(self, model_names, stack)\u001b[0m\n\u001b[1;32m    636\u001b[0m exposure \u001b[38;5;241m=\u001b[39m \u001b[38;5;28mself\u001b[39m\u001b[38;5;241m.\u001b[39mexposure\n\u001b[1;32m    638\u001b[0m \u001b[38;5;28;01mif\u001b[39;00m \u001b[38;5;28mself\u001b[39m\u001b[38;5;241m.\u001b[39mirf_model\u001b[38;5;241m.\u001b[39me_reco_model \u001b[38;5;129;01mis\u001b[39;00m \u001b[38;5;129;01mnot\u001b[39;00m \u001b[38;5;28;01mNone\u001b[39;00m:\n\u001b[0;32m--> 639\u001b[0m     edisp \u001b[38;5;241m=\u001b[39m \u001b[38;5;28;43mself\u001b[39;49m\u001b[38;5;241;43m.\u001b[39;49m\u001b[43mnpred_edisp\u001b[49m\u001b[43m(\u001b[49m\u001b[43m)\u001b[49m\n\u001b[1;32m    640\u001b[0m     evaluator\u001b[38;5;241m.\u001b[39mupdate_edisp(edisp, \u001b[38;5;28mself\u001b[39m\u001b[38;5;241m.\u001b[39m_geom)\n\u001b[1;32m    642\u001b[0m \u001b[38;5;28;01mif\u001b[39;00m \u001b[38;5;28mself\u001b[39m\u001b[38;5;241m.\u001b[39mirf_model\u001b[38;5;241m.\u001b[39meff_area_model \u001b[38;5;129;01mis\u001b[39;00m \u001b[38;5;129;01mnot\u001b[39;00m \u001b[38;5;28;01mNone\u001b[39;00m:\n",
      "File \u001b[0;32m/home/wecapstor1/caph/mppi045h/gammapy/gammapy/datasets/map.py:529\u001b[0m, in \u001b[0;36mMapDataset.npred_edisp\u001b[0;34m(self)\u001b[0m\n\u001b[1;32m    525\u001b[0m gaussian \u001b[38;5;241m=\u001b[39m \u001b[38;5;28mself\u001b[39m\u001b[38;5;241m.\u001b[39mirf_model\u001b[38;5;241m.\u001b[39me_reco_model(\n\u001b[1;32m    526\u001b[0m     energy_axis\u001b[38;5;241m=\u001b[39menergy_rebins,\n\u001b[1;32m    527\u001b[0m )\n\u001b[1;32m    528\u001b[0m \u001b[38;5;66;03m# rebin edisp_kernel data and multiply with gaussian\u001b[39;00m\n\u001b[0;32m--> 529\u001b[0m data_rebinned \u001b[38;5;241m=\u001b[39m \u001b[43mnp\u001b[49m\u001b[38;5;241;43m.\u001b[39;49m\u001b[43mmatmul\u001b[49m\u001b[43m(\u001b[49m\n\u001b[1;32m    530\u001b[0m \u001b[43m    \u001b[49m\u001b[43mnp\u001b[49m\u001b[38;5;241;43m.\u001b[39;49m\u001b[43mrepeat\u001b[49m\u001b[43m(\u001b[49m\n\u001b[1;32m    531\u001b[0m \u001b[43m        \u001b[49m\u001b[43medisp_kernel\u001b[49m\u001b[38;5;241;43m.\u001b[39;49m\u001b[43mdata\u001b[49m\u001b[43m,\u001b[49m\n\u001b[1;32m    532\u001b[0m \u001b[43m        \u001b[49m\u001b[38;5;28;43mself\u001b[39;49m\u001b[38;5;241;43m.\u001b[39;49m\u001b[43me_reco_n\u001b[49m\u001b[43m,\u001b[49m\n\u001b[1;32m    533\u001b[0m \u001b[43m        \u001b[49m\u001b[43maxis\u001b[49m\u001b[38;5;241;43m=\u001b[39;49m\u001b[38;5;241;43m1\u001b[39;49m\u001b[43m,\u001b[49m\n\u001b[1;32m    534\u001b[0m \u001b[43m    \u001b[49m\u001b[43m)\u001b[49m\u001b[43m,\u001b[49m\n\u001b[1;32m    535\u001b[0m \u001b[43m    \u001b[49m\u001b[43mgaussian\u001b[49m\u001b[43m,\u001b[49m\n\u001b[1;32m    536\u001b[0m \u001b[43m\u001b[49m\u001b[43m)\u001b[49m\n\u001b[1;32m    537\u001b[0m \u001b[38;5;66;03m# set as kernel data\u001b[39;00m\n\u001b[1;32m    538\u001b[0m edisp_kernel\u001b[38;5;241m.\u001b[39mdata \u001b[38;5;241m=\u001b[39m data_rebinned\u001b[38;5;241m.\u001b[39mreshape(\n\u001b[1;32m    539\u001b[0m     (\n\u001b[1;32m    540\u001b[0m         \u001b[38;5;28mlen\u001b[39m(edisp_kernel\u001b[38;5;241m.\u001b[39maxes[\u001b[38;5;124m\"\u001b[39m\u001b[38;5;124menergy_true\u001b[39m\u001b[38;5;124m\"\u001b[39m]\u001b[38;5;241m.\u001b[39mcenter),\n\u001b[0;32m   (...)\u001b[0m\n\u001b[1;32m    544\u001b[0m     )\n\u001b[1;32m    545\u001b[0m )\u001b[38;5;241m.\u001b[39mmean(axis\u001b[38;5;241m=\u001b[39m(\u001b[38;5;241m1\u001b[39m, \u001b[38;5;241m3\u001b[39m))\n",
      "\u001b[0;31mKeyboardInterrupt\u001b[0m: "
     ]
    }
   ],
   "source": [
    "%%time\n",
    "compute_minos = 0\n",
    "if compute_minos :\n",
    "    fit_cor = Fit(store_trace=False)\n",
    "    result_cor = fit_cor.run(dataset_asimov)\n",
    "    result_cor.minuit.minos()\n",
    "   \n",
    "\n",
    "    minos_model = Models(dataset_asimov.models.copy() )\n",
    "    for p in result_cor.minuit.parameters:\n",
    "        p_ = p[8:]\n",
    "        factor = 1 \n",
    "        if p_ == \"amplitude\":\n",
    "            factor = dataset_asimov.models.parameters['amplitude'].scale\n",
    "        \n",
    "        minos_model.parameters[p_].error_n = fit_cor.minuit.merrors[p].lower* factor\n",
    "        minos_model.parameters[p_].error_p = fit_cor.minuit.merrors[p].upper* factor\n",
    "    minos_model.write(f'../{folder}/data/4_minos_error_{lt}.yaml', overwrite = True)\n",
    "\n",
    "\n",
    "    fit_cor_N = Fit(store_trace=False)\n",
    "    result_cor_N = fit_cor_N.run(dataset_asimov_N)\n",
    "    result_cor_N.minuit.minos()\n",
    "\n",
    "    minos_model_N = Models(dataset_asimov_N.models.copy() )\n",
    "    for p in result_cor_N.minuit.parameters:\n",
    "        p_ = p[8:]\n",
    "        print(p_)\n",
    "        factor = 1 \n",
    "        if p_ == \"amplitude\":\n",
    "            factor = dataset_asimov.models.parameters['amplitude'].scale\n",
    "        minos_model_N.parameters[p_].error_n = fit_cor_N.minuit.merrors[p].lower* factor\n",
    "        minos_model_N.parameters[p_].error_p = fit_cor_N.minuit.merrors[p].upper* factor\n",
    "        print(fit_cor_N.minuit.merrors[p].lower* factor)\n",
    "    minos_model_N.write(f'../{folder}/data/4_minos_error_{lt}_nui.yaml', overwrite = True)\n",
    "    \n",
    "\n",
    "    \n",
    "    \n",
    "else:\n",
    "    minos_model_N = Models.read(f'../{folder}/data/4_minos_error_{lt}_nui.yaml')    \n",
    "    minos_model = Models.read(f'../{folder}/data/4_minos_error_{lt}.yaml')\n",
    "    \n",
    "minos_model_N.parameters['lambda_'].error_n *= 0.01\n",
    "minos_model_N.parameters['lambda_'].error_p *= 0.01\n",
    "\n",
    "minos_model.parameters['lambda_'].error_n *= 0.1\n",
    "minos_model.parameters['lambda_'].error_p *= 0.1\n",
    "\n",
    "minos_model_N.parameters['index'].value = dataset_asimov_N.models.parameters['index'].value\n",
    "minos_model_N.parameters['lambda_'].value = dataset_asimov_N.models.parameters['lambda_'].value\n",
    "minos_model_N.parameters['amplitude'].value = dataset_asimov_N.models.parameters['amplitude'].value\n",
    "\n",
    "\n",
    "\n"
   ]
  },
  {
   "cell_type": "code",
   "execution_count": 19,
   "id": "1d08fabd-6c7c-48ed-9753-f13dd03a88ac",
   "metadata": {},
   "outputs": [
    {
     "name": "stdout",
     "output_type": "stream",
     "text": [
      "0.0881902135063954\n",
      "-0.09571183332800573\n",
      "0.09000986743820563\n",
      "2.3026114784838456\n"
     ]
    }
   ],
   "source": [
    "print(minos_model.parameters['index'].error)\n",
    "print(minos_model.parameters['index'].error_n)\n",
    "print(minos_model.parameters['index'].error_p)\n",
    "print(minos_model.parameters['index'].value)\n"
   ]
  },
  {
   "cell_type": "code",
   "execution_count": 20,
   "id": "4ff42a3f-a01e-471c-9bb7-44d4b9dd38d3",
   "metadata": {},
   "outputs": [
    {
     "name": "stdout",
     "output_type": "stream",
     "text": [
      "0.0881902135063954\n",
      "0.09583988422704826\n",
      "0.09019532662839991\n",
      "2.3026114784838456\n"
     ]
    }
   ],
   "source": [
    "print(dataset_asimov.models.parameters['index'].error)\n",
    "print(dataset_asimov.models.parameters['index'].error_n)\n",
    "print(dataset_asimov.models.parameters['index'].error_p)\n",
    "print(dataset_asimov.models.parameters['index'].value)\n"
   ]
  },
  {
   "cell_type": "code",
   "execution_count": 21,
   "id": "8743aa7e-abcd-437e-81f9-3d5b8768cd50",
   "metadata": {},
   "outputs": [
    {
     "data": {
      "text/plain": [
       "0.09720305203514856"
      ]
     },
     "execution_count": 21,
     "metadata": {},
     "output_type": "execute_result"
    }
   ],
   "source": [
    "dataset_asimov_N.models.parameters['index'].error_n"
   ]
  },
  {
   "cell_type": "code",
   "execution_count": 22,
   "id": "007c7e2e-904e-4367-8487-bedede0d091c",
   "metadata": {},
   "outputs": [
    {
     "name": "stdout",
     "output_type": "stream",
     "text": [
      "lambda_\n",
      "0.10003403025494313\n"
     ]
    },
    {
     "ename": "NameError",
     "evalue": "name 'minos_model_N' is not defined",
     "output_type": "error",
     "traceback": [
      "\u001b[0;31m---------------------------------------------------------------------------\u001b[0m",
      "\u001b[0;31mNameError\u001b[0m                                 Traceback (most recent call last)",
      "Cell \u001b[0;32mIn[22], line 95\u001b[0m\n\u001b[1;32m     90\u001b[0m ax\u001b[38;5;241m.\u001b[39mvlines(amplitude_N\u001b[38;5;241m+\u001b[39mamplitude_err_N, ylim[\u001b[38;5;241m0\u001b[39m], ymax,color \u001b[38;5;241m=\u001b[39m colors_[\u001b[38;5;241m1\u001b[39m],\n\u001b[1;32m     91\u001b[0m           linestyles\u001b[38;5;241m=\u001b[39m\u001b[38;5;124m'\u001b[39m\u001b[38;5;124mdotted\u001b[39m\u001b[38;5;124m'\u001b[39m,\n\u001b[1;32m     92\u001b[0m             label \u001b[38;5;241m=\u001b[39m \u001b[38;5;124mf\u001b[39m\u001b[38;5;124m'\u001b[39m\u001b[38;5;124m1$\u001b[39m\u001b[38;5;124m\\\u001b[39m\u001b[38;5;124msigma$ error (Minuit): $\u001b[39m\u001b[38;5;124m\\\u001b[39m\u001b[38;5;124mpm$\u001b[39m\u001b[38;5;132;01m{\u001b[39;00mamplitude_err_N\u001b[38;5;241m*\u001b[39mfactor\u001b[38;5;132;01m:\u001b[39;00m\u001b[38;5;124m.2\u001b[39m\u001b[38;5;132;01m}\u001b[39;00m\u001b[38;5;124m'\u001b[39m)\n\u001b[1;32m     93\u001b[0m \u001b[38;5;66;03m## minos \u001b[39;00m\n\u001b[1;32m     94\u001b[0m \u001b[38;5;66;03m# with nui\u001b[39;00m\n\u001b[0;32m---> 95\u001b[0m par \u001b[38;5;241m=\u001b[39m \u001b[43mminos_model_N\u001b[49m\u001b[38;5;241m.\u001b[39mparameters[p]\n\u001b[1;32m     96\u001b[0m value, error_n, error_p  \u001b[38;5;241m=\u001b[39m par\u001b[38;5;241m.\u001b[39mvalue, par\u001b[38;5;241m.\u001b[39merror_n, par\u001b[38;5;241m.\u001b[39merror_p\n\u001b[1;32m     97\u001b[0m \u001b[38;5;28mprint\u001b[39m(value)\n",
      "\u001b[0;31mNameError\u001b[0m: name 'minos_model_N' is not defined"
     ]
    },
    {
     "data": {
      "text/plain": [
       "<Figure size 640x480 with 0 Axes>"
      ]
     },
     "metadata": {},
     "output_type": "display_data"
    },
    {
     "data": {
      "image/png": "[encoded data removed]",
      "text/plain": [
       "<Figure size 640x480 with 1 Axes>"
      ]
     },
     "metadata": {},
     "output_type": "display_data"
    }
   ],
   "source": [
    "import upper_limit_18_02\n",
    "\n",
    "colors_ = [s.blue, s.orange,\n",
    "          s.lblue, s.lorange]\n",
    "\n",
    "colors_ = [awo[0] , aw[0],\n",
    "           awo[1] , aw[1]]\n",
    "\n",
    "for i, p in enumerate(parameter_names_1):\n",
    "    #if p == 'index':\n",
    "    if True:\n",
    "        print(p)\n",
    "        stat_profile_N = results_N[i]\n",
    "        stat_profile = results[i]\n",
    "\n",
    "        stat_profile_N['stat_scan'] -= np.min(stat_profile_N['stat_scan'])\n",
    "        stat_profile['stat_scan'] -= np.min(stat_profile['stat_scan'])\n",
    "\n",
    "        fig = plt.figure()\n",
    "        ll_N_a = stat_profile_N.copy()\n",
    "        case = 'spectral'\n",
    "        if p == 'sigma':\n",
    "            case = 'spatial'\n",
    "            \n",
    "        amplitude_err = dataset_asimov.models[0].parameters[p].error\n",
    "        amplitude = dataset_asimov.models[0].parameters[p].value\n",
    "        amplitude_err_N = dataset_asimov_N.models[0].parameters[p].error\n",
    "        amplitude_N = dataset_asimov_N.models[0].parameters[p].value\n",
    "\n",
    "        fig, ax = plt.subplots(1,1)\n",
    "            \n",
    "        ### LIKELIHOOD\n",
    "        # scan\n",
    "        ll_a = stat_profile.copy()\n",
    "        ul_a = upper_limit_18_02.upper_limit(ll_a,0,0,  name=f'{dataset_asimov.models[0].name}.{case}.{p}_scan')\n",
    "        L_a, x_a = ul_a.interpolate()\n",
    "        plt.plot(x_a, L_a(x_a),label = \"-2log (L)\", linestyle = 'dashed', color = colors_[0])\n",
    "    \n",
    "        ylim= ax.get_ylim()\n",
    "        ymax = 2#ylim[1]\n",
    "        min_, er_neg, er_pos = ul_a.likelihood_error_asymmetric()\n",
    "        min_ = min_[0]; er_neg = er_neg[0]; er_pos = er_pos[0]; \n",
    "        dataset_asimov.models.parameters[p].error_n = er_neg\n",
    "        dataset_asimov.models.parameters[p].error_p = er_pos\n",
    "        \n",
    "        factor = 1\n",
    "        if p == 'amplitude':\n",
    "            factor = 1e11\n",
    "\n",
    "        ax.fill_between(  [np.nan, np.nan], ylim[0], ymax,  alpha = 0.5, color=colors_[2],\n",
    "                        label = f'1$\\sigma$ error (Scan): -{er_neg*factor:.4} +{er_pos*factor:.4} ')\n",
    "     \n",
    "        \n",
    "        ax.vlines(amplitude-amplitude_err, ylim[0], ymax, color = colors_[0], linestyle ='dotted')\n",
    "        ax.vlines(amplitude+amplitude_err, ylim[0], ymax, color = colors_[0], linestyle ='dotted',\n",
    "                 label =  f'1$\\sigma$ error (Minuit): {amplitude_err*factor:.4}')\n",
    "         ## minos \n",
    "        # without nui      \n",
    "        par = minos_model.parameters[p]\n",
    "        value, error_n, error_p  = par.value, par.error_n, par.error_p\n",
    "        print(value)\n",
    "        \n",
    "        ax.vlines(value+error_n, ylim[0], ymax,color = 'tab:orange' ,\n",
    "                  linestyles='dashed'\n",
    "                 )\n",
    "        ax.vlines(value+error_p, ylim[0], ymax,color = 'tab:orange',\n",
    "                  linestyles='dashed',\n",
    "                    label = f'1$\\sigma$ error (Minos): {error_n*factor:.4} +{error_p*factor:.4} ')\n",
    "        \n",
    "           \n",
    "        ### POSTERIOR\n",
    "        # scan\n",
    "        ul_N_a = upper_limit_18_02.upper_limit(ll_N_a,0,0, \n",
    "                                               name=f'{dataset_asimov.models[0].name}.{case}.{p}_scan')\n",
    "        L_N_a, x_N_a = ul_N_a.interpolate()\n",
    "        plt.plot(x_N_a, L_N_a(x_N_a),label = \"-2log (P)\", color = colors_[1])\n",
    "        \n",
    "        \n",
    "        min_N, er_negN, er_posN = ul_N_a.likelihood_error_asymmetric()\n",
    "        min_N = min_N[0]; er_negN = er_negN[0]; er_posN = er_posN[0]; \n",
    "        dataset_asimov_N.models.parameters[p].error_n = er_negN\n",
    "        dataset_asimov_N.models.parameters[p].error_p = er_posN\n",
    "\n",
    "\n",
    "        ax.fill_between(  [min_N-er_negN, min_N+ er_posN], ylim[0], ymax, alpha = 0.5, color = colors_[3],\n",
    "                        label = f'1$\\sigma$ error (Scan): -{er_negN*factor:.4} +{er_posN*factor:.4} ')\n",
    "        ax.vlines(amplitude_N-amplitude_err_N, ylim[0], ymax,color = colors_[1] ,\n",
    "                  linestyles='dotted'\n",
    "                 )\n",
    "        ax.vlines(amplitude_N+amplitude_err_N, ylim[0], ymax,color = colors_[1],\n",
    "                  linestyles='dotted',\n",
    "                    label = f'1$\\sigma$ error (Minuit): $\\pm${amplitude_err_N*factor:.2}')\n",
    "        ## minos \n",
    "        # with nui\n",
    "        par = minos_model_N.parameters[p]\n",
    "        value, error_n, error_p  = par.value, par.error_n, par.error_p\n",
    "        print(value)\n",
    "        ax.vlines(value+error_n, ylim[0], ymax,color = 'purple' ,\n",
    "                  linestyles='dashed'\n",
    "                 )\n",
    "        ax.vlines(value+error_p, ylim[0], ymax,color = 'purple',\n",
    "                  linestyles='dashed',\n",
    "                    label = f'1$\\sigma$ error (Minos): {error_n*factor:.4} +{error_p*factor:.4} ')\n",
    "                   \n",
    "              \n",
    "            \n",
    "        nn = 5\n",
    "        #ax.set_xlim(value-error_n*nn, \n",
    "        #           value+error_p*nn)\n",
    "        ax.set_ylim(np.min(stat_profile['stat_scan'])-0.5,\n",
    "                    np.min(stat_profile['stat_scan'])+ 3)\n",
    "\n",
    "        \n",
    "        \n",
    "        ax.fill_between(  [min_-er_neg, min_+ er_pos], ylim[0], ymax,  alpha = 0.5, color=colors_[2],\n",
    "                        label = f'')\n",
    "       \n",
    "    \n",
    "    \n",
    "        xx = ax.get_xlim()\n",
    "        alpha = 0.6\n",
    "        ax.hlines(0, xx[0], xx[1], color = 'grey', alpha = alpha)\n",
    "        ax.hlines(1, xx[0], xx[1], color = 'grey', alpha = alpha)\n",
    "        if p == 'amplitude':\n",
    "            str_= \"[$\\\\mathrm{TeV^{-1}\\\\,s^{-1}\\\\,cm^{-2}}$]\"\n",
    "            plt.xlabel(f\"Source strength \" + str_) \n",
    "        else:\n",
    "            plt.xlabel(p)\n",
    "        plt.ylabel(\"-2log (L) [arb. unit]\")\n",
    "        plt.legend(ncol = 2)\n",
    "\n",
    "    fig.savefig(f\"../{c['folder']}/plots/4_scan_{p}_minos.pdf\")\n",
    "    \n",
    "    "
   ]
  },
  {
   "cell_type": "markdown",
   "id": "2791ae56-8b0f-4252-8f03-5a4b0cf068f4",
   "metadata": {},
   "source": [
    "## Minos Errors"
   ]
  },
  {
   "cell_type": "code",
   "execution_count": null,
   "id": "0d5e404c-0ba1-4c5b-80d9-5082ddf22ecc",
   "metadata": {},
   "outputs": [],
   "source": [
    "unit = \"[10^{-11}/\\\\text{cm}^2 \\\\text{s} \\\\text{TeV}] \"\n",
    "unit2 = \"[\\\\text{TeV}^{-1}]\"\n",
    "print(f\"& &  $\\Phi _0  {unit} $  & $\\Lambda$ & $\\lambda {unit2}$ \\\\\\ \\hline \\hline\")\n",
    "\n",
    "for i, m in enumerate([setup.dataset_helper.models[0],minos_model , minos_model_N]):\n",
    "    if i == 0:\n",
    "        str_  = f\" & Input &\" \n",
    "    if i == 1:\n",
    "        str_  = f\" Bias  &Without fitting &\" \n",
    "        \n",
    "    if i == 2:\n",
    "        str_  = f\" & With fitting  &\" \n",
    "    for j, p in enumerate(['amplitude', 'index', 'lambda_']):\n",
    "        factor = 1\n",
    "        if p == 'amplitude':\n",
    "            factor = 1e11\n",
    "            \n",
    "        if i == 0:\n",
    "            str_  += f\" ${ m.parameters[p].value*factor:.5} $  &\" \n",
    "        if i > 0:\n",
    "            str_  += \" \\error {\" + f\"{m.parameters[p].value*factor:.5}\" + '} { ' + f'{m.parameters[p].error*factor:.3}' + '}  {' + f'{m.parameters[p].error_p*factor:.3}' + '}  {' + f'{m.parameters[p].error_n*factor:.3}' +\"} &\" \n",
    "            \n",
    "    str_ = str_[:-1]\n",
    "    str_ += \"\\\\\\  \"\n",
    "    str_ += \"\\hline\"\n",
    "    print(f\"{str_}\")\n",
    "    str_ = \"\"\n",
    "    print()"
   ]
  },
  {
   "cell_type": "markdown",
   "id": "b538db40-be90-48bc-a312-b7e21dd0e634",
   "metadata": {},
   "source": [
    "## Scan Errors"
   ]
  },
  {
   "cell_type": "code",
   "execution_count": null,
   "id": "d211385a-3e7c-4496-ae63-423a9cc98c8e",
   "metadata": {},
   "outputs": [],
   "source": [
    "unit = \"[10^{-11}/\\\\text{cm}^2 \\\\text{s} \\\\text{TeV}] \"\n",
    "unit2 = \"[\\\\text{TeV}^{-1}]\"\n",
    "print(f\"& &  $\\Phi _0  {unit} $  & $\\Lambda$ & $\\lambda {unit2}$ \\\\\\ \\hline \\hline\")\n",
    "\n",
    "for i, m in enumerate([setup.dataset_helper.models[0],dataset_asimov.models[0] , \n",
    "                       dataset_asimov_N.models[0]]):\n",
    "    if i == 0:\n",
    "        str_  = f\" & Input &\" \n",
    "    if i == 1:\n",
    "        str_  = f\" Bias  &Without fitting &\" \n",
    "        \n",
    "    if i == 2:\n",
    "        str_  = f\" & With fitting  &\" \n",
    "    for j, p in enumerate(['amplitude', 'index', 'lambda_']):\n",
    "        factor = 1\n",
    "        if p == 'amplitude':\n",
    "            factor = 1e11\n",
    "            \n",
    "        if i == 0:\n",
    "            str_  += f\" ${ m.parameters[p].value*factor:.5} $  &\" \n",
    "        if i > 0:\n",
    "            str_  += \" \\error {\" + f\"{m.parameters[p].value*factor:.5}\" + '} { ' + f'{m.parameters[p].error*factor:.3}' + '}  {' + f'{m.parameters[p].error_p*factor:.3}' + '}  {' + f'{m.parameters[p].error_n*factor:.3}' +\"} &\" \n",
    "            \n",
    "    str_ = str_[:-1]\n",
    "    str_ += \"\\\\\\  \"\n",
    "    str_ += \"\\hline\"\n",
    "    print(f\"{str_}\")\n",
    "    str_ = \"\"\n",
    "    print()"
   ]
  },
  {
   "cell_type": "code",
   "execution_count": null,
   "id": "542c57a8-bda1-4748-b9ce-557e9cabffb2",
   "metadata": {},
   "outputs": [],
   "source": []
  },
  {
   "cell_type": "markdown",
   "id": "86d05a3d-30ec-4185-8bbc-307dbdb9b7f7",
   "metadata": {},
   "source": [
    "# "
   ]
  }
 ],
 "metadata": {
  "kernelspec": {
   "display_name": "Python 3 (ipykernel)",
   "language": "python",
   "name": "python3"
  },
  "language_info": {
   "codemirror_mode": {
    "name": "ipython",
    "version": 3
   },
   "file_extension": ".py",
   "mimetype": "text/x-python",
   "name": "python",
   "nbconvert_exporter": "python",
   "pygments_lexer": "ipython3",
   "version": "3.8.16"
  },
  "varInspector": {
   "cols": {
    "lenName": 16,
    "lenType": 16,
    "lenVar": 40
   },
   "kernels_config": {
    "python": {
     "delete_cmd_postfix": "",
     "delete_cmd_prefix": "del ",
     "library": "var_list.py",
     "varRefreshCmd": "print(var_dic_list())"
    },
    "r": {
     "delete_cmd_postfix": ") ",
     "delete_cmd_prefix": "rm(",
     "library": "var_list.r",
     "varRefreshCmd": "cat(var_dic_list()) "
    }
   },
   "types_to_exclude": [
    "module",
    "function",
    "builtin_function_or_method",
    "instance",
    "_Feature"
   ],
   "window_display": false
  }
 },
 "nbformat": 4,
 "nbformat_minor": 5
}
