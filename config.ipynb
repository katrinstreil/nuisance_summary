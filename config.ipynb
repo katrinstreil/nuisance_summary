{
 "cells": [
  {
   "cell_type": "code",
   "execution_count": 1,
   "id": "44c94c24-dd9e-4e52-81a8-cdd54f35f59c",
   "metadata": {},
   "outputs": [],
   "source": [
    "config = dict()\n"
   ]
  },
  {
   "cell_type": "markdown",
   "id": "f26681f8-6678-4b15-b917-dde5f1c6bbc1",
   "metadata": {},
   "source": [
    "### Paths"
   ]
  },
  {
   "cell_type": "code",
   "execution_count": 2,
   "id": "fc86245c-12ff-4d55-9cb2-a5bd49e48696",
   "metadata": {},
   "outputs": [],
   "source": [
    "config['case'] = 'wecap'\n",
    "config['local'] = {'path':\"/home/katrin/Documents\",\n",
    "                  'path_pksflare':\"/home/katrin/Documents/nuisance_summary/PKS_flare\"}\n",
    "config['woody'] = {'path':\"/home/vault/caph/mppi062h/repositories/HESS_3Dbkg_syserror/2-error_in_dataset\",\n",
    "                  'path_pksflare':\"/home/hpc/caph/mppi045h/3D_analysis/N_parameters_in_L/nuisance_summary/Crab\"}\n",
    "config['wecap'] = {'path':\"/home/vault/caph/mppi062h/repositories/HESS_3Dbkg_syserror/2-error_in_dataset\",\n",
    "                  'path_pksflare':\"/home/wecapstor1/caph/mppi045h/nuisance_summary\"}\n"
   ]
  },
  {
   "cell_type": "markdown",
   "id": "b9125132-f892-40d2-87c8-74540b0b57ad",
   "metadata": {},
   "source": [
    "## Colors "
   ]
  },
  {
   "cell_type": "code",
   "execution_count": 3,
   "id": "28f61f0a-36ee-4f68-88f9-fbbd03ef714c",
   "metadata": {},
   "outputs": [
    {
     "data": {
      "text/html": [
       "<svg  width=\"660\" height=\"55\"><rect x=\"0\" y=\"0\" width=\"55\" height=\"55\" style=\"fill:#a6cee3;stroke-width:2;stroke:rgb(255,255,255)\"/><rect x=\"55\" y=\"0\" width=\"55\" height=\"55\" style=\"fill:#1f78b4;stroke-width:2;stroke:rgb(255,255,255)\"/><rect x=\"110\" y=\"0\" width=\"55\" height=\"55\" style=\"fill:#b2df8a;stroke-width:2;stroke:rgb(255,255,255)\"/><rect x=\"165\" y=\"0\" width=\"55\" height=\"55\" style=\"fill:#33a02c;stroke-width:2;stroke:rgb(255,255,255)\"/><rect x=\"220\" y=\"0\" width=\"55\" height=\"55\" style=\"fill:#fb9a99;stroke-width:2;stroke:rgb(255,255,255)\"/><rect x=\"275\" y=\"0\" width=\"55\" height=\"55\" style=\"fill:#e31a1c;stroke-width:2;stroke:rgb(255,255,255)\"/><rect x=\"330\" y=\"0\" width=\"55\" height=\"55\" style=\"fill:#fdbf6f;stroke-width:2;stroke:rgb(255,255,255)\"/><rect x=\"385\" y=\"0\" width=\"55\" height=\"55\" style=\"fill:#ff7f00;stroke-width:2;stroke:rgb(255,255,255)\"/><rect x=\"440\" y=\"0\" width=\"55\" height=\"55\" style=\"fill:#cab2d6;stroke-width:2;stroke:rgb(255,255,255)\"/><rect x=\"495\" y=\"0\" width=\"55\" height=\"55\" style=\"fill:#6a3d9a;stroke-width:2;stroke:rgb(255,255,255)\"/><rect x=\"550\" y=\"0\" width=\"55\" height=\"55\" style=\"fill:#ffff99;stroke-width:2;stroke:rgb(255,255,255)\"/><rect x=\"605\" y=\"0\" width=\"55\" height=\"55\" style=\"fill:#b15928;stroke-width:2;stroke:rgb(255,255,255)\"/></svg>"
      ],
      "text/plain": [
       "[(0.6509803921568628, 0.807843137254902, 0.8901960784313725),\n",
       " (0.12156862745098039, 0.47058823529411764, 0.7058823529411765),\n",
       " (0.6980392156862745, 0.8745098039215686, 0.5411764705882353),\n",
       " (0.2, 0.6274509803921569, 0.17254901960784313),\n",
       " (0.984313725490196, 0.6039215686274509, 0.6),\n",
       " (0.8901960784313725, 0.10196078431372549, 0.10980392156862745),\n",
       " (0.9921568627450981, 0.7490196078431373, 0.43529411764705883),\n",
       " (1.0, 0.4980392156862745, 0.0),\n",
       " (0.792156862745098, 0.6980392156862745, 0.8392156862745098),\n",
       " (0.41568627450980394, 0.23921568627450981, 0.6039215686274509),\n",
       " (1.0, 1.0, 0.6),\n",
       " (0.6941176470588235, 0.34901960784313724, 0.1568627450980392)]"
      ]
     },
     "execution_count": 3,
     "metadata": {},
     "output_type": "execute_result"
    }
   ],
   "source": [
    "import seaborn as sns\n",
    "\n",
    "s = sns.color_palette(\"Paired\")\n",
    "blue = s[1], s[0]  # dark, light\n",
    "green = s[3], s[2]\n",
    "red = s[5], s[4]\n",
    "orange = s[7], s[6]\n",
    "purple = s[9], s[8]\n",
    "# asimov without  --> red\n",
    "# asimov with  --> blue\n",
    "# example without  --> orange\n",
    "# example with  --> purple\n",
    "def trafo_color(color):\n",
    "    return [[i for i in color[0]],[i for i in color[1]] ]\n",
    "\n",
    "config['colors'] = [trafo_color(red), \n",
    "                    trafo_color(blue), \n",
    "                    trafo_color(orange), \n",
    "                    trafo_color(purple)]\n",
    "config['figformat']= \"pdf\"\n",
    "\n",
    "s"
   ]
  },
  {
   "cell_type": "code",
   "execution_count": 4,
   "id": "ce70728b-839d-4d5f-9bd9-9e314970b176",
   "metadata": {},
   "outputs": [
    {
     "name": "stdout",
     "output_type": "stream",
     "text": [
      " lightblue = [0.6509803921568628,0.807843137254902,0.8901960784313725]\n",
      " blue = [0.12156862745098039,0.47058823529411764,0.7058823529411765]\n",
      " lightgreen = [0.6980392156862745,0.8745098039215686,0.5411764705882353]\n",
      " gree = [0.2,0.6274509803921569,0.17254901960784313]\n",
      " lightred = [0.984313725490196,0.6039215686274509,0.6]\n",
      " red = [0.8901960784313725,0.10196078431372549,0.10980392156862745]\n",
      " lightorange = [0.9921568627450981,0.7490196078431373,0.43529411764705883]\n",
      " orange = [1.0,0.4980392156862745,0.0]\n",
      " lightpurple = [0.792156862745098,0.6980392156862745,0.8392156862745098]\n",
      " purple = [0.41568627450980394,0.23921568627450981,0.6039215686274509]\n",
      " lightbrown = [1.0,1.0,0.6]\n",
      " brown = [0.6941176470588235,0.34901960784313724,0.1568627450980392]\n"
     ]
    }
   ],
   "source": [
    "import yaml \n",
    "c = ['lightblue', 'blue', 'lightgreen', 'gree', 'lightred', 'red', 'lightorange',\n",
    "    'orange', 'lightpurple','purple','lightbrown', 'brown']\n",
    "for c_, s_ in zip(c, s):\n",
    "    print(f\" {c_} = [{s_[0]},{s_[1]},{s_[2]}]\")\n"
   ]
  },
  {
   "cell_type": "markdown",
   "id": "16a4f731-42de-4fb0-8dd1-4d41b06a92a0",
   "metadata": {},
   "source": [
    "## Model"
   ]
  },
  {
   "cell_type": "code",
   "execution_count": 5,
   "id": "cf868d37-524f-481a-8931-9c92b4d2271c",
   "metadata": {},
   "outputs": [],
   "source": [
    "config['model']= \"crab_cutoff\"#\"msh\"\n",
    "config['source']= \"PKSflare\"\n",
    "\n",
    "#config['sys'] = \"Eff_area100\"\n",
    "#config['sys'] = \"E_reco\"\n",
    "config['sys'] = \"Combined_1TeV_10per\"\n",
    "#config['sys'] = \"Eff_area_1TeV_10per\"\n",
    "\n",
    "#config['sys'] = \"Combined_1TeV_20per\"\n",
    "#config['sys'] = \"Eff_area_1TeV_20per\"\n",
    "\n",
    "\n",
    "#config['sys'] = \"Bkgext\"\n",
    "#config['sys'] = \"Bkgext\"\n",
    "\n",
    "if config['sys'] == \"BKG\" or config['sys'] == \"BKGpl\":\n",
    "    config['model']= \"msh\"#\"crab_log\"\n",
    "    #config['model']= \"msh-ref\" \n",
    "    config['source']= \"MSH\"\n",
    "\n",
    "\n",
    "#crab_log   \n",
    "if config['model'] == \"crab_log\":\n",
    "    config['parameter_names'] = [[\"amplitude\", \"alpha\"],[\"amplitude\", \"beta\"],[\"beta\",\"alpha\"],]\n",
    "#crab_cutoff   \n",
    "if config['model'] == \"crab_cutoff\":\n",
    "    config['parameter_names'] = [[\"amplitude\", \"index\"],[\"amplitude\", \"lambda_\"],[\"lambda_\",\"index\"],]\n",
    "#\"crab_break_1f\":\n",
    "#parameter_names = [[\"amplitude\", \"index2\"],[\"amplitude\", \"ebreak\"],[\"index2\", \"ebreak\"],]\n",
    "#\"crab_break_ef\":\n",
    "#parameter_names = [[\"amplitude\", \"index2\"],[\"amplitude\", \"beta\"],[\"index2\", \"beta\"],]\n",
    "\n",
    "if config['model'] == \"msh\":\n",
    "    config['parameter_names'] = [[\"amplitude\", \"index\"]]\n",
    "    config['parameter_names'] = [[\"amplitude\", \"index\"],[\"amplitude\", \"sigma\"],[\"sigma\",\"index\"],]\n",
    "\n",
    "\n",
    "import numpy as np\n",
    "livetimes = np.logspace(-2, 2,  13)[:6] \n",
    "livetimes = np.append(livetimes, np.logspace(0, 2, 7))\n",
    "config['livetimes']= [float(l) for l in livetimes]\n",
    "config['livetime']= float(livetimes[7])"
   ]
  },
  {
   "cell_type": "markdown",
   "id": "d5057887-cbec-49bc-ae74-1ca2cdbda0d9",
   "metadata": {},
   "source": [
    "## Systematic"
   ]
  },
  {
   "cell_type": "code",
   "execution_count": 6,
   "id": "fc88c316-3a68-4efb-a356-339a979f8406",
   "metadata": {},
   "outputs": [],
   "source": [
    "if  \"Combined\" in config['sys'] :\n",
    "    config['norm'] = float(0.1)\n",
    "    config['tilt'] = float(0.02)\n",
    "    config['bias'] = float(0.1)\n",
    "    config['resolution'] = 0\n",
    "    config['magnitude'] = 0 # 0.1\n",
    "    config['corrlength'] = 0 #corrlenght\n",
    "    \n",
    "   \n",
    "if  \"Combined_1TeV_10per\" in config['sys'] :\n",
    "    config['norm'] = float(0.1)\n",
    "    config['tilt'] = float(0.02)\n",
    "    config['bias'] = float(0.1)\n",
    "    config['reference']  = float(1)\n",
    "    config['resolution'] = 0\n",
    "    config['magnitude'] = 0 # 0.1\n",
    "    config['corrlength'] = 0 #corrlenght\n",
    "    \n",
    "    \n",
    "if  \"Combined_1TeV_20per\" in config['sys'] :\n",
    "    config['norm'] = float(0.2)\n",
    "    config['tilt'] = float(0.04)\n",
    "    config['bias'] = float(0.1)\n",
    "    config['reference']  = float(1)\n",
    "    config['resolution'] = 0\n",
    "    config['magnitude'] = 0 # 0.1\n",
    "    config['corrlength'] = 0 #corrlenght\n",
    "    \n",
    "    \n",
    "if config['sys'] == \"Eff_area\":\n",
    "    config['norm'] = float(0.1)\n",
    "    config['tilt'] = float(0.02)\n",
    "    config['bias'] = float(0.)\n",
    "    config['resolution'] = 0\n",
    "    config['magnitude'] = 0 # 0.1\n",
    "    config['corrlength'] = 0 #corrlenght\n",
    "    \n",
    "if config['sys'] == \"Eff_area100\":\n",
    "    config['norm'] = float(0.1)\n",
    "    config['tilt'] = float(0.02)\n",
    "    config['bias'] = float(0.)\n",
    "    config['resolution'] = 0\n",
    "    config['magnitude'] = 0 # 0.1\n",
    "    config['corrlength'] = 0 #corrlenght\n",
    "    \n",
    "if  \"Eff_area_1TeV_10per\" in config['sys'] :\n",
    "    config['norm'] = float(0.1)\n",
    "    config['tilt'] = float(0.02)\n",
    "    config['bias'] = float(0.)\n",
    "    config['reference']  = float(1)\n",
    "    config['resolution'] = 0\n",
    "    config['magnitude'] = 0 # 0.1\n",
    "    config['corrlength'] = 0 #corrlenght   \n",
    "    \n",
    "    \n",
    "if  \"Eff_area_1TeV_20per\" in config['sys'] :\n",
    "    config['norm'] = float(0.2)\n",
    "    config['tilt'] = float(0.04)\n",
    "    config['bias'] = float(0.)\n",
    "    config['reference']  = float(1)\n",
    "    config['resolution'] = 0\n",
    "    config['magnitude'] = 0 # 0.1\n",
    "    config['corrlength'] = 0 #corrlenght   \n",
    "    \n",
    "    \n",
    "    \n",
    "if config['sys'] == \"E_reco\":\n",
    "    config['norm'] = float(0.)\n",
    "    config['tilt'] = float(0.)\n",
    "    config['bias'] = float(0.1)\n",
    "    config['resolution'] = 0\n",
    "    config['magnitude'] = 0 # 0.1\n",
    "    config['corrlength'] = 0 #corrlenght\n",
    "    \n",
    "if config['sys'] == \"BKG\":\n",
    "    config['norm'] = float(0.)\n",
    "    config['tilt'] = float(0.)\n",
    "    config['bias'] = float(0.)\n",
    "    config['resolution'] = 0\n",
    "    config['magnitude'] = 10 # 10 in percent\n",
    "    config['corrlength'] = 2 #corrlenght\n",
    "    config['model']= \"msh\"#\"crab_log\"\n",
    "    \n",
    "    \n",
    "if config['sys'] == \"BKGpl\":\n",
    "    config['norm'] = float(0.)\n",
    "    config['tilt'] = float(0.)\n",
    "    config['bias'] = float(0.)\n",
    "    config['resolution'] = 0\n",
    "    config['magnitude'] = 10 # 10 in percent\n",
    "    config['corrlength'] = 2 #corrlenght\n",
    "    config['model']= \"msh\"#\"crab_log\"\n",
    "    \n",
    "if config['sys'] == \"Bkgext\":\n",
    "    config['norm'] = float(0.)\n",
    "    config['tilt'] = float(0.)\n",
    "    config['bias'] = float(0.)\n",
    "    config['resolution'] = 0\n",
    "    config['magnitude'] = 10 # 10 in percent\n",
    "    config['corrlength'] = 2 #corrlenght\n",
    "    config['model']= \"crab_cutoff\"#\"crab_log\"\n",
    "    \n",
    "config['zero'] = float(1e-12)\n",
    "config['colors'] = [[[0.8901960784313725, 0.10196078431372549, 0.10980392156862745],\n",
    "                    [ 0.984313725490196,  0.6039215686274509,  0.6]],\n",
    "                    [[ 0.12156862745098039,  0.47058823529411764,  0.7058823529411765],\n",
    "                    [ 0.6509803921568628,  0.807843137254902,  0.8901960784313725]],\n",
    "                    [[1.0,  0.4980392156862745,  0.0],\n",
    "                 [0.9921568627450981,  0.7490196078431373, 0.43529411764705883]],\n",
    "                 [[ 0.41568627450980394, 0.23921568627450981,  0.6039215686274509],\n",
    "                  [ 0.792156862745098,  0.6980392156862745, 0.8392156862745098 ]]]\n",
    "config[\"figformat\"]  = 'pdf'"
   ]
  },
  {
   "cell_type": "code",
   "execution_count": 7,
   "id": "dec95e43-a56f-41eb-80c8-67ab602c949d",
   "metadata": {},
   "outputs": [
    {
     "data": {
      "text/plain": [
       "{'case': 'wecap',\n",
       " 'local': {'path': '/home/katrin/Documents',\n",
       "  'path_pksflare': '/home/katrin/Documents/nuisance_summary/PKS_flare'},\n",
       " 'woody': {'path': '/home/vault/caph/mppi062h/repositories/HESS_3Dbkg_syserror/2-error_in_dataset',\n",
       "  'path_pksflare': '/home/hpc/caph/mppi045h/3D_analysis/N_parameters_in_L/nuisance_summary/Crab'},\n",
       " 'wecap': {'path': '/home/vault/caph/mppi062h/repositories/HESS_3Dbkg_syserror/2-error_in_dataset',\n",
       "  'path_pksflare': '/home/wecapstor1/caph/mppi045h/nuisance_summary'},\n",
       " 'colors': [[[0.8901960784313725, 0.10196078431372549, 0.10980392156862745],\n",
       "   [0.984313725490196, 0.6039215686274509, 0.6]],\n",
       "  [[0.12156862745098039, 0.47058823529411764, 0.7058823529411765],\n",
       "   [0.6509803921568628, 0.807843137254902, 0.8901960784313725]],\n",
       "  [[1.0, 0.4980392156862745, 0.0],\n",
       "   [0.9921568627450981, 0.7490196078431373, 0.43529411764705883]],\n",
       "  [[0.41568627450980394, 0.23921568627450981, 0.6039215686274509],\n",
       "   [0.792156862745098, 0.6980392156862745, 0.8392156862745098]]],\n",
       " 'figformat': 'pdf',\n",
       " 'model': 'crab_cutoff',\n",
       " 'source': 'PKSflare',\n",
       " 'sys': 'Combined_1TeV_10per',\n",
       " 'parameter_names': [['amplitude', 'index'],\n",
       "  ['amplitude', 'lambda_'],\n",
       "  ['lambda_', 'index']],\n",
       " 'livetimes': [0.01,\n",
       "  0.021544346900318832,\n",
       "  0.046415888336127774,\n",
       "  0.1,\n",
       "  0.21544346900318834,\n",
       "  0.46415888336127775,\n",
       "  1.0,\n",
       "  2.154434690031884,\n",
       "  4.641588833612778,\n",
       "  10.0,\n",
       "  21.544346900318832,\n",
       "  46.41588833612777,\n",
       "  100.0],\n",
       " 'livetime': 2.154434690031884,\n",
       " 'norm': 0.1,\n",
       " 'tilt': 0.02,\n",
       " 'bias': 0.1,\n",
       " 'resolution': 0,\n",
       " 'magnitude': 0,\n",
       " 'corrlength': 0,\n",
       " 'reference': 1.0,\n",
       " 'zero': 1e-12}"
      ]
     },
     "execution_count": 7,
     "metadata": {},
     "output_type": "execute_result"
    }
   ],
   "source": [
    "config"
   ]
  },
  {
   "cell_type": "code",
   "execution_count": 8,
   "id": "4982b102-a135-4eae-bb69-ae0f01a2a8f9",
   "metadata": {},
   "outputs": [],
   "source": [
    "import yaml \n",
    "with open('config.yaml', 'w') as outfile:\n",
    "    yaml.dump(config, outfile, default_flow_style=False)"
   ]
  },
  {
   "cell_type": "code",
   "execution_count": 9,
   "id": "a46a1eb8-8e4f-4c18-b476-dd913fb1a51f",
   "metadata": {},
   "outputs": [],
   "source": [
    "def load_config():\n",
    "    import yaml\n",
    "    import os\n",
    "\n",
    "    path = os.getcwd()\n",
    "    substring = \"nuisance_summary\"\n",
    "    path = path[: path.find(substring)] + substring + \"/\"\n",
    "    config = yaml.safe_load(Path(path + \"config.yaml\").read_text()) \n",
    "    return config\n"
   ]
  },
  {
   "cell_type": "code",
   "execution_count": null,
   "id": "420bdf67-930a-405a-b1fc-4f21171b724e",
   "metadata": {},
   "outputs": [],
   "source": []
  },
  {
   "cell_type": "code",
   "execution_count": null,
   "id": "3b2c27a8-775e-4c49-a1b2-6c358d8ef777",
   "metadata": {},
   "outputs": [],
   "source": []
  }
 ],
 "metadata": {
  "kernelspec": {
   "display_name": "Python 3 (ipykernel)",
   "language": "python",
   "name": "python3"
  },
  "language_info": {
   "codemirror_mode": {
    "name": "ipython",
    "version": 3
   },
   "file_extension": ".py",
   "mimetype": "text/x-python",
   "name": "python",
   "nbconvert_exporter": "python",
   "pygments_lexer": "ipython3",
   "version": "3.8.16"
  }
 },
 "nbformat": 4,
 "nbformat_minor": 5
}
